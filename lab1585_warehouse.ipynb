{
 "cells": [
  {
   "cell_type": "markdown",
   "id": "2b5e8a22-93c6-452a-9454-0e4c4501a55f",
   "metadata": {},
   "source": [
    "<h1>TechXchange Lab Details</h1>\n",
    "\n",
    "<font size=\"4\"><strong>Code</strong>: 1585\n",
    "\n",
    "<font size=\"4\"><strong>Title</strong>: Workload optimization and correction using watsonx.data and watson.ai</font><br>\n",
    "<font size=\"4\"><strong>Session Type</strong>: Instructor-led Lab</font><br>\n",
    "<font size=\"4\"><strong>Lab Instructor</strong>: Brajesh Pandey,  Daniel Hancock</font><br>\n",
    "<font size=\"4\"><strong>Submitter</strong>: Brajesh Pandey</font>\n"
   ]
  },
  {
   "cell_type": "markdown",
   "id": "60778fc0-6e87-49ee-9d5a-bb922f5d7879",
   "metadata": {},
   "source": [
    "Lakehouse is relatively a new concept and sometimes it can be confusing to understand workload categorization in that environment. watsonx.data supports multiple fit for engines to address true lake + house workloads. In this session, we will learn - Different types of workload(s) - Which engine is the best suited for a workload type - Workload offload to watsonx.data or capacity release from a data warehouse - How can one use watson.ai for workload correction? This practical learning brings clarity while dealing with workloads in Lakehouse and empowers you with effective use of AI. \n",
    "\n",
    "Data Warehouse and Data Lakehouse environments will be used to show the possibilies.\n",
    "\n",
    "**Engines**:  \n",
    "Data Warehouse: Netezza Performance Server  \n",
    "Lakehouse: Spark and Presto  \n",
    "AI: Milvus  "
   ]
  },
  {
   "cell_type": "markdown",
   "id": "d7d44134-62d0-415b-952a-aceecda5135a",
   "metadata": {},
   "source": [
    "---\n",
    "# Lab Details\n",
    "---\n",
    "\n",
    "## Overview  \n",
    "This hands-on lab focuses on workload optimization, error correction, and AI integration using Netezza Performance Server, watsonx.data and watson.ai. It introduces a hybrid data architecture that combines the robust management of traditional data warehouses with the scalability and flexibility of lakehouses. Participants will learn to optimize workloads by offloading data from data warehouses to lakehouses and using AI, including large language models (LLMs), to enhance data-driven insights through Retrieval-Augmented Generation (RAG).\n",
    "\n",
    "## Key Learning Objectives  \n",
    "Understanding the Hybrid Data Architecture: Gain insights into integrating a traditional data warehouse with a lakehouse environment to handle diverse data management needs, optimizing for both storage and compute efficiency.\n",
    "\n",
    "## Data Layered Approach  \n",
    "Learn how to manage data across different stages in the lifecycle, starting from the data warehouse and transitioning to the lakehouse:\n",
    "\n",
    "### Level-1 (L1) Raw Data Layer  \n",
    "Start by ingesting raw, unprocessed data in the data warehouse. This layer acts as a source of truth and supports auditing, detailed analysis, and recovery.\n",
    "\n",
    "### Level-2 (L2) Processed Data Layer  \n",
    "Process and transform data to optimize it for reporting and analysis within the data warehouse. This layer includes cleaned, enriched, and aggregated data that enhances query performance.\n",
    "\n",
    "### Level-3 (L3) Presentation Data Layer  \n",
    "Offload processed and refined data to the lakehouse, where it is organized for end-user access and analytical queries. This layer supports high-performance analytics with pre-built reports, dashboards, and optimized structures.\n",
    "Workload Optimization: Understand how to strategically offload data from the data warehouse to the lakehouse to optimize workloads, reducing costs, and improving query performance.\n",
    "\n",
    "## Error Correction and Data Quality  \n",
    "Implement error detection and correction techniques to ensure high-quality data throughout the lifecycle. This is crucial for maintaining reliable data analytics and decision-making processes.\n",
    "\n",
    "## Leveraging AI Capabilities with watson.ai    \n",
    "Integrate AI-driven tools and models using watson.ai to extract deeper insights from the data, such as predictive analytics and machine learning for advanced decision support.\n",
    "\n",
    "## Hands-On Activities    \n",
    "Participants will set up both data warehouse and lakehouse environments, perform data ingestion, transformation, and offloading tasks, and apply AI models for enhanced analytics. These activities will help them understand how to optimize their data architecture and workload management in real-world scenarios.\n",
    "\n",
    "## Technology used in Hands-on Lab\n",
    "\n",
    "### Netezza    \n",
    "Netezza Performance Server is a cloud-native enterprise data warehouse designed to operationalize deep analytics, business intelligence and AI/maching-learning (ML) workloads by making data unified, accessible and scalable, anywhere.\n",
    "\n",
    "### IBM watsonx  \n",
    "watsonx is IBM's platform committed to injecting generative AI into services that span across customer's data lifecycle. Each of the services offer a unique experience but when combined together, the business value is even stronger.\n",
    "\n",
    "## Part 1\n",
    "\n",
    "Build a data warehouse using the Data Layered architecture.  Once the data is in the warehouse the data for optimization and AI will be offloaded into Lakehouse for further analysis.\n",
    "\n",
    "**Engine(s)**: Netezza Performance Server\n",
    "\n",
    "## Part 2\n",
    "\n",
    "Offload data from the Data Warehouse into Lakehouse for workload optimization.\n",
    "\n",
    "**Engine(s)**: Netezza Performance Server and Presto"
   ]
  },
  {
   "cell_type": "markdown",
   "id": "55a6ff3c-c784-478b-9ce1-1e9f79d36c57",
   "metadata": {},
   "source": [
    "---\n",
    "# Start the Lab\n",
    "---\n",
    "All tasks in the lab will be performed using a Jupyter Notebook. Open the Notebook in a browser and run the code block below by placing the cursor in the cell and pressing Shift + Enter.  When you see a cell with the run icon: <img src=\"run.svg\" alt=\"Icon\" width=\"40\" height=\"40\"> that indicates to execute the cell."
   ]
  },
  {
   "cell_type": "markdown",
   "id": "f6556fca-c4eb-4e1a-a671-edc775339326",
   "metadata": {},
   "source": [
    "---\n",
    "# Part 1: Overview - Netezza Data Warehouse Data Layer Life Cycle \n",
    "---\n",
    "\n",
    "The data layered approach is designed to manage data at different stages of its lifecycle, ensuring that the data warehouse supports various analytical needs.\n",
    "\n",
    "## Level-1 (L1): Raw Data Layer\n",
    "\n",
    "*Definition*: This is the foundational layer where raw, unprocessed data is stored. It usually contains data in its most original form, directly from source systems.\n",
    "    Characteristics:\n",
    "        Raw and Untransformed: Data is stored as-is, without any transformations or aggregations.\n",
    "        High Volume: This layer can be very large, as it includes all the detailed transactional data.\n",
    "        Purpose: Acts as a source of truth and a backup of the original data. It’s used for data recovery, auditing, and detailed historical analysis.\n",
    "\n",
    "## Level-2 (L2): Processed Data Layer\n",
    "\n",
    "*Definition*: This layer contains data that has been cleaned, transformed, and possibly aggregated. It is optimized for performance and query efficiency.\n",
    "    Characteristics:\n",
    "        Transformed Data: Data is cleaned and transformed according to business rules. This could involve data enrichment, normalization, and denormalization.\n",
    "        Aggregations and Summaries: Data might be aggregated at various levels to improve query performance.\n",
    "        Purpose: Provides a more user-friendly and analytical view of the data. It’s typically used for reporting and business intelligence.\n",
    "\n",
    "## Level-3 (L3): Presentation Data Layer\n",
    "\n",
    "*Definition*: This is the final layer where data is organized and optimized for end-user access and analytical queries. It usually consists of structured data that is easy to navigate and interact with.\n",
    "    Characteristics:\n",
    "        User-Friendly Format: Data is often presented in a way that is directly usable for decision-making and business analysis. It may include pre-built reports, dashboards, and data marts.\n",
    "        Optimized for Performance: Indexing, caching, and other performance-tuning techniques are applied to ensure quick access.\n",
    "        Purpose: Provides actionable insights to end-users and business stakeholders. It is tailored to meet specific reporting and analysis needs.\n"
   ]
  },
  {
   "cell_type": "markdown",
   "id": "c57d443f-40dd-4045-b876-4b57e436e264",
   "metadata": {},
   "source": [
    "---\n",
    "# **IMPORTANT**: Run the **REQUIRED** cell(s) to set up the notebook \n",
    "---"
   ]
  },
  {
   "cell_type": "markdown",
   "id": "29d5919e-8d4a-4934-a775-1bec23d9abe5",
   "metadata": {},
   "source": [
    "## <img src=\"https://ibm.box.com/shared/static/50a3li3lqi6ppr6qcjht3rvay583rnhy.svg\" alt=\"Icon\" width=\"40\" height=\"40\"> REQUIRED: set `student_id` to your assigned ID\n",
    "\n",
    "To run a code block click the cell and press shift+enter or click the cell and click the run icon on the menur bar."
   ]
  },
  {
   "cell_type": "code",
   "execution_count": 1,
   "id": "17a3f272-1bb4-453c-b9ee-28e092bb76da",
   "metadata": {},
   "outputs": [
    {
     "name": "stdout",
     "output_type": "stream",
     "text": [
      "\n",
      "The student ID is set to XX, please change to your assigned ID.\n",
      "Return to the top of the notebook and rerun this cell.\n",
      "\n"
     ]
    },
    {
     "data": {
      "text/html": [
       "<style>table {align:left;display:block}</style>"
      ],
      "text/plain": [
       "<IPython.core.display.HTML object>"
      ]
     },
     "metadata": {},
     "output_type": "display_data"
    }
   ],
   "source": [
    "#########################################################\n",
    "################### CHANGE student_id ###################\n",
    "#########################################################\n",
    "\n",
    "student_id = \"XX\" # change xx to your assigned student ID\n",
    "\n"
   ]
  },
  {
   "cell_type": "code",
   "execution_count": 2,
   "id": "cbcb0ff9-22e4-4cb7-82cf-ab007c61f3e9",
   "metadata": {},
   "outputs": [
    {
     "name": "stdout",
     "output_type": "stream",
     "text": [
      "\n",
      "The student ID is set to XX, please change to your assigned ID.\n",
      "Return to the top of the notebook and rerun this cell.\n",
      "\n"
     ]
    },
    {
     "data": {
      "text/html": [
       "<style>table {align:left;display:block}</style>"
      ],
      "text/plain": [
       "<IPython.core.display.HTML object>"
      ]
     },
     "metadata": {},
     "output_type": "display_data"
    }
   ],
   "source": [
    "#########################################################\n",
    "###################### DANGER ZONE ######################\n",
    "# Do not make changes below this line unless instructed\n",
    "#########################################################\n",
    "\n",
    "#!pip3 install nzpy \n",
    "#!pip3 install nbimporter\n",
    "\n",
    "nz_host = \"nz-e657c772-2e48-4773-98f5-da69824f3616.us-east-1.data-warehouse.cloud.ibm.com\"\n",
    "nz_port = 5480\n",
    "nz_source_db = \"LAB1585\"\n",
    "nz_target_db = f\"LAB1585_{student_id}\"\n",
    "nz_system_db = \"SYSTEM\"\n",
    "nz_user = f\"u1585_{student_id}\"\n",
    "nz_password = f\"TechXchange@Vegas2024_{student_id}\"\n",
    "nz_sschema = \"ADMIN\"\n",
    "\n",
    "import pandas as pd\n",
    "from tabulate import tabulate\n",
    "import config\n",
    "import importlib\n",
    "importlib.reload(config)\n",
    "config.verify_student_id(student_id, nz_host, nz_port, nz_user, nz_password, nz_source_db, nz_sschema)\n",
    "\n",
    "# Apply table styling\n",
    "config.apply_table_styling()"
   ]
  },
  {
   "cell_type": "markdown",
   "id": "b3b4bf22-f900-44a3-be1a-be9a66cfdeea",
   "metadata": {
    "jp-MarkdownHeadingCollapsed": true
   },
   "source": [
    "---\n",
    "# Part 1 [Student Tasks]: Data Warehous Level-1 (L1)\n",
    "---"
   ]
  },
  {
   "cell_type": "markdown",
   "id": "d66fe403-26e1-4a68-9220-3b996332417c",
   "metadata": {},
   "source": [
    "## L1: Build the Data Layers in the Data Warehouse\n",
    "\n",
    "**Level-1 (Raw Data Layer or Landing Zone)**: This layer is the initial stage of data management where raw, unprocessed data from various source systems is ingested. The data is stored in its original form without any transformation or aggregation, providing a comprehensive and auditable record of the source data. This ensures the integrity and traceability of the data, serving as the foundation for subsequent processing and analysis.\n",
    "\n",
    "In this task, you will create a dedicated database for your user, identified by your student ID (u1585_xx, where \"xx\" is your assigned ID). This process involves setting up a new, isolated database environment within the IBM® Netezza® Performance Server for IBM Cloud Pak® for Data as a Service (NPSaaS). By establishing a separate database, you ensure that your data is well-organized, secure, and segregated from other users and databases in the lab environment. \n",
    "\n",
    "**Data Warehouse**: IBM® Netezza® Performance Server for IBM Cloud Pak® for Data as a Service (NPSaaS) "
   ]
  },
  {
   "cell_type": "markdown",
   "id": "05e86c37-979f-4192-97dc-64bf627cbaee",
   "metadata": {},
   "source": [
    "## <img src=\"run.svg\" alt=\"Icon\" width=\"40\" height=\"40\"> L1: Task 1.1 - CONNECT to `U1585_XX` database\n",
    "> Where `XX` is your assigned student ID set in cell one."
   ]
  },
  {
   "cell_type": "code",
   "execution_count": 14,
   "id": "9363a5a4-e1a1-4743-9d96-5200d5f2b030",
   "metadata": {},
   "outputs": [
    {
     "name": "stdout",
     "output_type": "stream",
     "text": [
      "Connection to database SYSTEM successful.\n",
      "\n"
     ]
    }
   ],
   "source": [
    "# Call the connect_nzdb function in config.py to connect to the Netezza SYSTEM database as the student user `U1585_XX`\n",
    "\n",
    "nz_connection = config.connect_nzdb(nz_user, nz_password, nz_host, nz_system_db, nz_port)"
   ]
  },
  {
   "cell_type": "markdown",
   "id": "fdcb5183-3b5c-4356-99f6-23da9bfc6634",
   "metadata": {},
   "source": [
    "## <img src=\"run.svg\" alt=\"Icon\" width=\"40\" height=\"40\"> L1: Task 1.2 - DROP database (optional)\n",
    "To start over `DROP` your database:"
   ]
  },
  {
   "cell_type": "code",
   "execution_count": 15,
   "id": "84608cb5-7111-4c2b-b24c-07d907c9c5a0",
   "metadata": {},
   "outputs": [
    {
     "name": "stdout",
     "output_type": "stream",
     "text": [
      "--------Running SQL Command---------\n",
      "\n",
      "DROP DATABASE LAB1585_XX;\n",
      "Error executing command.\n",
      "Error details: ERROR:  DROP DATABASE: object LAB1585_XX does not exist.\n",
      "\u0000\n",
      "------------------------------------\n",
      "\n"
     ]
    }
   ],
   "source": [
    "# CREATE a dedicated Netezza database for the student to use in the lab tasks to avoid conflicting with other students\n",
    "# Call the run_nzsql function in config.py to DROP the student database\n",
    "\n",
    "config.run_nzsql(nz_connection,\n",
    "                 f\"\"\"DROP DATABASE LAB1585_{student_id};\"\"\"\n",
    "                )"
   ]
  },
  {
   "cell_type": "markdown",
   "id": "bb8d52e6-c4c6-41ff-abf2-aceedd8abe3e",
   "metadata": {},
   "source": [
    "## <img src=\"run.svg\" alt=\"Icon\" width=\"40\" height=\"40\"> L1: Task 1.3 - CREATE database `U1585_XX`\n",
    "> Where `XX` is your assigned student ID set in cell one.\n",
    "\n",
    "To ensure each student has a dedicated environment for performing lab tasks without interfering with others, a separate Netezza database will be created for each student. This isolation helps in preventing conflicts between students'."
   ]
  },
  {
   "cell_type": "code",
   "execution_count": 16,
   "id": "9ccc3c47-accf-426e-b580-839abf359f10",
   "metadata": {},
   "outputs": [
    {
     "name": "stdout",
     "output_type": "stream",
     "text": [
      "--------Running SQL Command---------\n",
      "\n",
      "CREATE DATABASE LAB1585_XX;\n",
      "Successfully executed command.\n",
      "\n",
      "------------------------------------\n",
      "\n"
     ]
    }
   ],
   "source": [
    "# CREATE a dedicated Netezza database for the student to use in the lab tasks to avoid conflicting with other students\n",
    "# Call the run_nzsql function in config.py to CREATE the student database\n",
    "\n",
    "config.run_nzsql(nz_connection,\n",
    "                 f\"\"\"CREATE DATABASE LAB1585_{student_id};\"\"\"\n",
    "                )"
   ]
  },
  {
   "cell_type": "markdown",
   "id": "d04b7152-bcbc-4ccc-9fc4-51cce59bb515",
   "metadata": {},
   "source": [
    "## <img src=\"run.svg\" alt=\"Icon\" width=\"40\" height=\"40\"> L1: Task 1.4 - DISCONNECT from database `SYSTEM`\n",
    "\n",
    "When working with databases, it is crucial to manage connections effectively to avoid potential conflicts.\n",
    "\n",
    "In this lab, the `SYSTEM` database is only used to create or drop user databases. Therefore, disconnecting from the `SYSTEM` database after these operations is particularly important to keep the environment clean and accessible for all users."
   ]
  },
  {
   "cell_type": "code",
   "execution_count": 17,
   "id": "20a0f24e-7b73-4398-a174-ec75e715f093",
   "metadata": {},
   "outputs": [
    {
     "name": "stdout",
     "output_type": "stream",
     "text": [
      "Successfully disconnected from the database SYSTEM.\n"
     ]
    }
   ],
   "source": [
    "# Call the run_nzsql function in config.py to disconnect from the Netezza SYSTEM database\n",
    "\n",
    "config.disconnect(nz_connection, nz_system_db)"
   ]
  },
  {
   "cell_type": "markdown",
   "id": "05819345-1846-43cf-8b22-b9df80e2940c",
   "metadata": {},
   "source": [
    "## Note: Source files in IBM COS Bucket\n",
    "\n",
    "In the IBM Cloud Object Storage (COS) bucket `bucket1585`, there are three files that are designated for loading data into Netezza tables. Each file corresponds to a specific Netezza table. Below is a detailed description of the files and their corresponding tables:  \n",
    "\n",
    "Files and their Corresponding Netezza tables:\n",
    "\n",
    "1. **CUSTOMER**  \n",
    "   File Name: `customers.parquet`  \n",
    "   Table: `CUSTOMER`  \n",
    "   Description: This file contains data related to customers. It is stored in the Parquet format, which is a columnar storage file format optimized for efficient data processing.\n",
    "\n",
    "1. **ORDERS**  \n",
    "   File Name: `orders.parquet`  \n",
    "   Table: `ORDERS`  \n",
    "   Description: This file holds order-related data. Similar to the customer.parquet file, it is in Parquet format and is used to load order information into the Netezza database.\n",
    "\n",
    "1. **PRODUCTS**  \n",
    "   File Name: `products.parquet`  \n",
    "   Table: `PRODUCTS`  \n",
    "   Description: This file includes data about products. It is also in Parquet format and will be used to populate the products table in Netezza."
   ]
  },
  {
   "cell_type": "markdown",
   "id": "3e77034d-83e5-4534-8c79-f3f4dfab8a07",
   "metadata": {},
   "source": [
    "## Note: Netezza `DATASOURCE`\n",
    "A Netezza datasource is used to specify the location and credentials for accessing a cloud object store bucket to read or write files. A datasource has already been configured for you to access the files needed in this lab, there is no need to create or set it up yourself."
   ]
  },
  {
   "cell_type": "markdown",
   "id": "279b5bfa-b0d5-4673-9b82-245c57704ad9",
   "metadata": {},
   "source": [
    "<p><strong>Note:</strong> External Datasource object was created by the DBA and <code>GRANT</code> permissions to your user ID. See below for DDL used.</p>\n",
    "\n",
    "<pre style=\"background-color: #f4f4f4; border: 1px solid #ccc; padding: 10px; border-radius: 5px;\">\n",
    "<code style=\"color: #333; font-family: monospace; font-size: 14px;\">\n",
    "<span style=\"color: #007700;\">set</span> ENABLE_EXTERNAL_DATASOURCE = 1\n",
    ";\n",
    "\n",
    "<span style=\"color: #0000FF;\">create</span> EXTERNAL DATASOURCE <span style=\"color: #0000FF;\">lab1585.admin.cos_lab1585</span> <span style=\"color: #0000FF;\">on</span> AWSS3\n",
    "<span style=\"color: #0000FF;\">using</span> (\n",
    "        <span style=\"color: #FF0000;\">ACCESSKEYID</span> <span style=\"color: #A52A2A;\">'cf82c83e7e914ad8964f4b25600f3d33'</span>\n",
    "                    <span style=\"color: #A52A2A;\">'********************************'</span>\n",
    "        <span style=\"color: #FF0000;\">SECRETACCESSKEY</span> <span style=\"color: #A52A2A;\">'690a4410c4521ee8c4733b19d45d9801c2b61d2a8eeb6ae3'</span>\n",
    "        <span style=\"color: #FF0000;\">BUCKET</span> <span style=\"color: #A52A2A;\">'bucket1585'</span>\n",
    "        <span style=\"color: #FF0000;\">REGION</span> <span style=\"color: #A52A2A;\">'us-east'</span>\n",
    "        <span style=\"color: #FF0000;\">ENDPOINT</span> <span style=\"color: #A52A2A;\">'s3.us-east.cloud-object-storage.appdomain.cloud'</span>\n",
    ")\n",
    ";\n",
    "</code>\n",
    "</pre>\n"
   ]
  },
  {
   "cell_type": "markdown",
   "id": "ac4e59dd-ef83-47e2-9e48-56514b51270b",
   "metadata": {},
   "source": [
    "---\n",
    "# Note: Database object and File Details\n",
    "---\n",
    "\n",
    "<p><strong>Database:</strong> Database name <code>lab1585_XX</code>.</p>\n",
    "\n",
    "<p><strong>Schemas:</strong> <code>L1</code>, <code>L2</code>, <code>L3</code>.</p>\n",
    "\n",
    "<h3>External Tables</h3>\n",
    "<ul>\n",
    "  <li><strong>L1 External Tables to be used:</strong></li>\n",
    "  <ul>\n",
    "    <li><code>customers_ext</code></li>\n",
    "    <li><code>products_ext</code></li>\n",
    "    <li><code>orders_ext</code></li>\n",
    "  </ul>\n",
    "</ul>\n",
    "\n",
    "<h3>Tables</h3>\n",
    "<p><strong>L2 Tables to be used:</strong> (Order is significant)</p>\n",
    "<ul>\n",
    "  <li><code>customers</code></li>\n",
    "  <li><code>products</code></li>\n",
    "  <li><code>orders</code></li>\n",
    "</ul>\n",
    "\n",
    "<h3>Summary Tables</h3>\n",
    "<p><strong>L3 Tables for Aggregated or Summarized Data:</strong></p>\n",
    "<ul>\n",
    "  <li><code>customer_activity_summary</code></li>\n",
    "  <li><code>order_summary</code></li>\n",
    "  <li><code>product_category_summary</code></li>\n",
    "</ul>\n",
    "\n",
    "<h3>Files</h3>\n",
    "<p><strong>Mapping of Table Names to Their Respective Parquet File Names for Data Loading:</strong></p>\n",
    "<table border=\"1\">\n",
    "  <thead>\n",
    "    <tr>\n",
    "      <th>Table Name</th>\n",
    "      <th>Parquet File Name</th>\n",
    "    </tr>\n",
    "  </thead>\n",
    "  <tbody>\n",
    "    <tr>\n",
    "      <td><code>customers_ext</code></td>\n",
    "      <td><code>customer.parquet</code></td>\n",
    "    </tr>\n",
    "    <tr>\n",
    "      <td><code>products_ext</code></td>\n",
    "      <td><code>products.parquet</code></td>\n",
    "    </tr>\n",
    "    <tr>\n",
    "      <td><code>orders_ext</code></td>\n",
    "      <td><code>orders.parquet</code></td>\n",
    "    </tr>\n",
    "  </tbody>\n",
    "</table>\n"
   ]
  },
  {
   "cell_type": "markdown",
   "id": "82d28404-8167-4ca6-ab78-dfa9c02f8572",
   "metadata": {},
   "source": [
    "---\n",
    "# Instructors Note - Raw Data Layer\n",
    "---\n",
    "*Definition*: This is the foundational layer where raw, unprocessed data is stored. It usually contains data in its most original form, directly from source systems.\n",
    "    Characteristics:\n",
    "        Raw and Untransformed: Data is stored as-is, without any transformations or aggregations.\n",
    "        High Volume: This layer can be very large, as it includes all the detailed transactional data.\n",
    "        Purpose: Acts as a source of truth and a backup of the original data. It’s used for data recovery, auditing, and detailed historical analysis.\n",
    "\n",
    "`CREATE` Netezza L1 tables from files in IBM COS"
   ]
  },
  {
   "cell_type": "markdown",
   "id": "2b83decf-4781-4392-94e8-7db23fe78d07",
   "metadata": {},
   "source": [
    "## <img src=\"run.svg\" alt=\"Icon\" width=\"40\" height=\"40\"> L1: Task 1.5 - SET variables used in tasks\n",
    "\n"
   ]
  },
  {
   "cell_type": "code",
   "execution_count": 18,
   "id": "135d9345-e6e5-4e99-b3a0-fbdc3407ee6d",
   "metadata": {},
   "outputs": [
    {
     "name": "stdout",
     "output_type": "stream",
     "text": [
      "Target database set to: LAB1585_XX\n",
      "Schema set to: L1\n"
     ]
    }
   ],
   "source": [
    "# Set variables for use in sub tasks\n",
    "\n",
    "nz_target_database = f\"LAB1585_{student_id}\"\n",
    "schema = \"L1\"\n",
    "\n",
    "print(f\"Target database set to: {nz_target_database}\")\n",
    "print(f\"Schema set to: {schema}\")"
   ]
  },
  {
   "cell_type": "markdown",
   "id": "1861dec3-41e2-4595-8c6b-3c30dc674641",
   "metadata": {},
   "source": [
    "## <img src=\"run.svg\" alt=\"Icon\" width=\"40\" height=\"40\"> L1: Task 1.6 - CONNECT to `LAB1585_XX` database\n",
    "> Where `XX` is your assigned student ID set in cell one."
   ]
  },
  {
   "cell_type": "code",
   "execution_count": 19,
   "id": "4bd27c22-6ec5-4486-8d3f-3561d7e77ddf",
   "metadata": {},
   "outputs": [
    {
     "name": "stdout",
     "output_type": "stream",
     "text": [
      "Connection to database LAB1585_XX successful.\n",
      "\n"
     ]
    }
   ],
   "source": [
    "# Connect to the newly created database\n",
    "\n",
    "nz_connection = config.connect_nzdb(nz_user, nz_password, nz_host, nz_target_db, nz_port)"
   ]
  },
  {
   "cell_type": "markdown",
   "id": "80818137-effc-48b6-a7bb-e2af905a9df4",
   "metadata": {},
   "source": [
    "## <img src=\"run.svg\" alt=\"Icon\" width=\"40\" height=\"40\"> L1: Task 1.7 - CREATE `L1` schema in `LAB1585_XX` database"
   ]
  },
  {
   "cell_type": "code",
   "execution_count": 21,
   "id": "ebbdfdd5-9b07-4266-8351-27d85fc0de60",
   "metadata": {},
   "outputs": [
    {
     "name": "stdout",
     "output_type": "stream",
     "text": [
      "--------Running SQL Command---------\n",
      "\n",
      "CREATE SCHEMA L1;\n",
      "Successfully executed command.\n",
      "\n",
      "------------------------------------\n",
      "\n"
     ]
    }
   ],
   "source": [
    "# Create the `L1` schema\n",
    "\n",
    "config.run_nzsql(nz_connection,\n",
    "                 f\"\"\"CREATE SCHEMA {schema};\"\"\"\n",
    "                )"
   ]
  },
  {
   "cell_type": "markdown",
   "id": "621e5183-806f-457f-920b-bf72e0bac230",
   "metadata": {},
   "source": [
    "## <img src=\"run.svg\" alt=\"Icon\" width=\"40\" height=\"40\"> L1: Task 1.8 - CREATE the external tables for schema `L1` in `LAB1585_XX` database\n",
    "\n",
    "In this task, you will create external tables named `CUSTOMERS_EXT`, `PRODUCTS_EXT`, and `ORDERS_EXT` within the `L1` schema of the LAB1585_XX database. These external tables point to files stored in the IBM COS bucket `bucket1585`.\n",
    "\n",
    "We are performing an Extract, Load, and Transform (ELT) process using SQL to manipulate and process the data. The external tables will be used to load raw data from the IBM COS bucket and then transform and process this data to create the final tables in the `L2` schema.\n",
    "\n",
    "> Note: There are two approaches for processing data from external tables to Level-2 (L2) using SQL:\n",
    "\n",
    "1. Option 1: Use the external tables to build native Netezza Level-1 (L1) tables. This approach is recommended when the transformation or processing from L1 to L2 is complex, requiring multiple SQL operations.\n",
    "\n",
    "2. Option 2: Use the external tables directly for SQL-based processing to L2. This is suitable when minimal transformation is required.\n",
    "Depending on the complexity of the ELT process and SQL transformations from L1 to L2, creating native tables in L1 might be necessary to optimize performance and manage data more effectively."
   ]
  },
  {
   "cell_type": "code",
   "execution_count": 22,
   "id": "e8c9a66b-8ef4-42a1-91fb-07ed8a22f827",
   "metadata": {},
   "outputs": [
    {
     "name": "stdout",
     "output_type": "stream",
     "text": [
      "--------Running SQL Command---------\n",
      "\n",
      "CREATE EXTERNAL TABLE LAB1585_XX.L1.customers_ext\n",
      "    ON lab1585.admin.cos_lab1585\n",
      "    USING (DATAOBJECT ('/customers/customers.parquet') FORMAT 'PARQUET');\n",
      "    \n",
      "Successfully executed command.\n",
      "\n",
      "------------------------------------\n",
      "\n",
      "--------Running SQL Command---------\n",
      "\n",
      "CREATE EXTERNAL TABLE LAB1585_XX.L1.products_ext\n",
      "    ON lab1585.admin.cos_lab1585\n",
      "    USING (DATAOBJECT ('/products/products.parquet') FORMAT 'PARQUET');\n",
      "    \n",
      "Successfully executed command.\n",
      "\n",
      "------------------------------------\n",
      "\n",
      "--------Running SQL Command---------\n",
      "\n",
      "CREATE EXTERNAL TABLE LAB1585_XX.L1.orders_ext\n",
      "    ON lab1585.admin.cos_lab1585\n",
      "    USING (DATAOBJECT ('/orders/orders.parquet') FORMAT 'PARQUET');\n",
      "    \n",
      "Successfully executed command.\n",
      "\n",
      "------------------------------------\n",
      "\n"
     ]
    }
   ],
   "source": [
    "tables = ['customers_ext', 'products_ext', 'orders_ext']\n",
    "\n",
    "# Loop over tables to generate CREATE EXTERNAL TABLE commands\n",
    "for table in tables:\n",
    "    create_ext = f\"\"\"CREATE EXTERNAL TABLE {nz_target_database}.{schema}.{table}\n",
    "    ON lab1585.admin.cos_lab1585\n",
    "    USING (DATAOBJECT ('/{table.split('_')[0]}/{table.split('_')[0]}.parquet') FORMAT 'PARQUET');\n",
    "    \"\"\"\n",
    "    config.run_nzsql(nz_connection, create_ext)"
   ]
  },
  {
   "cell_type": "markdown",
   "id": "2899f50e-20b1-40d9-a8f0-b6696e5a3124",
   "metadata": {},
   "source": [
    "## <img src=\"run.svg\" alt=\"Icon\" width=\"40\" height=\"40\"> L1: Task 1.9 - List `L1` tables"
   ]
  },
  {
   "cell_type": "code",
   "execution_count": 23,
   "id": "98d1cee8-1420-4d03-9713-c9b859e7a01c",
   "metadata": {},
   "outputs": [
    {
     "name": "stdout",
     "output_type": "stream",
     "text": [
      "--------Running SQL Command---------\n",
      "\n",
      "\n",
      "SELECT SCHEMA, TABLENAME \n",
      "FROM _v_table\n",
      "WHERE DATABASE = 'LAB1585_XX'\n",
      "  AND SCHEMA = 'L1'\n",
      "ORDER BY 1, 2\n",
      ";\n",
      "\n",
      "Successfully executed command.\n",
      "\n",
      "--------End of SQL Command---------\n",
      "\n",
      "+--------+---------------+\n",
      "| SCHEMA |   TABLENAME   |\n",
      "+--------+---------------+\n",
      "|   L1   | CUSTOMERS_EXT |\n",
      "|   L1   |  ORDERS_EXT   |\n",
      "|   L1   | PRODUCTS_EXT  |\n",
      "+--------+---------------+\n"
     ]
    }
   ],
   "source": [
    "results = config.run_nzsql_withresults(nz_connection,\n",
    "f\"\"\"\n",
    "SELECT SCHEMA, TABLENAME \n",
    "FROM _v_table\n",
    "WHERE DATABASE = '{nz_target_database}'\n",
    "  AND SCHEMA = 'L1'\n",
    "ORDER BY 1, 2\n",
    ";\n",
    "\"\"\"\n",
    ")\n",
    "\n",
    "if results:\n",
    "    print(tabulate(results, headers=[\"SCHEMA\", \"TABLENAME\"], tablefmt=\"pretty\", showindex=False))\n",
    "else:\n",
    "    print(\"No rows found.\")"
   ]
  },
  {
   "cell_type": "markdown",
   "id": "2e5d7531-beb4-4ac2-8612-593d29c45770",
   "metadata": {},
   "source": [
    "## <img src=\"run.svg\" alt=\"Icon\" width=\"40\" height=\"40\"> L1: Task 1.10 - DISCONNECT from database `U1585_XX`\n",
    "\n",
    "> Where XX is your assigned student ID set in cell one."
   ]
  },
  {
   "cell_type": "code",
   "execution_count": 24,
   "id": "508c63f1-c9b5-4e6f-9a8c-1ab9e9a651f0",
   "metadata": {},
   "outputs": [
    {
     "name": "stdout",
     "output_type": "stream",
     "text": [
      "Successfully disconnected from the database LAB1585_XX.\n"
     ]
    }
   ],
   "source": [
    "# Call the run_nzsql function in config.py to disconnect from the Netezza `U1585_XX` database\n",
    "\n",
    "config.disconnect(nz_connection, nz_target_db)"
   ]
  },
  {
   "cell_type": "markdown",
   "id": "72b22c6d-484e-4bcf-a138-b66dcb851d09",
   "metadata": {},
   "source": [
    "---\n",
    "# L2: Overview - Processed Data Layer\n",
    "---\n",
    "Definition: This layer contains data that has been cleaned, transformed, and possibly aggregated. It is optimized for performance and query efficiency. Characteristics: Transformed Data: Data is cleaned and transformed according to business rules. This could involve data enrichment, normalization, and denormalization. Aggregations and Summaries: Data might be aggregated at various levels to improve query performance. Purpose: Provides a more user-friendly and analytical view of the data. It’s typically used for reporting and business intelligence.\n"
   ]
  },
  {
   "cell_type": "markdown",
   "id": "76ef1b73-344e-44b8-8f30-5ec0e726b61c",
   "metadata": {},
   "source": [
    "## <img src=\"run.svg\" alt=\"Icon\" width=\"40\" height=\"40\"> L2: Task 2.1 - SET variables used in the L2 tasks"
   ]
  },
  {
   "cell_type": "code",
   "execution_count": 25,
   "id": "b2642a44-bce3-4a12-b437-d7f46ce3d79a",
   "metadata": {},
   "outputs": [
    {
     "name": "stdout",
     "output_type": "stream",
     "text": [
      "Source schema set to: L1\n",
      "Target schema set to: L2\n"
     ]
    }
   ],
   "source": [
    "# Set variables for use in sub tasks\n",
    "\n",
    "source_schema = \"L1\"\n",
    "target_schema = \"L2\"\n",
    "\n",
    "print(f\"Source schema set to: {source_schema}\")\n",
    "print(f\"Target schema set to: {target_schema}\")"
   ]
  },
  {
   "cell_type": "markdown",
   "id": "2525280f-08d0-4b41-bfb5-23f58c40aa15",
   "metadata": {},
   "source": [
    "## <img src=\"run.svg\" alt=\"Icon\" width=\"40\" height=\"40\"> L2: Task 2.2 - CONNECT to `LAB1585_XX` database\n",
    "> Where `XX` is your assigned student ID set in cell one."
   ]
  },
  {
   "cell_type": "code",
   "execution_count": 26,
   "id": "0dc0a07c-0843-4eae-9b2d-cb1318a00e9c",
   "metadata": {},
   "outputs": [
    {
     "name": "stdout",
     "output_type": "stream",
     "text": [
      "Connection to database LAB1585_XX successful.\n",
      "\n"
     ]
    }
   ],
   "source": [
    "# Connect to the newly created database\n",
    "\n",
    "nz_connection = config.connect_nzdb(nz_user, nz_password, nz_host, nz_target_db, nz_port)"
   ]
  },
  {
   "cell_type": "markdown",
   "id": "1769aa0c-1edd-4cfe-ad29-d5a80b8579a9",
   "metadata": {},
   "source": [
    "## <img src=\"run.svg\" alt=\"Icon\" width=\"40\" height=\"40\"> L2: Task 2.3 - CREATE `L2` schema in `LAB1585_XX` database"
   ]
  },
  {
   "cell_type": "code",
   "execution_count": 27,
   "id": "02fba60d-5e8e-4e5d-9147-72335eb510b2",
   "metadata": {},
   "outputs": [
    {
     "name": "stdout",
     "output_type": "stream",
     "text": [
      "--------Running SQL Command---------\n",
      "\n",
      "CREATE SCHEMA L2;\n",
      "Successfully executed command.\n",
      "\n",
      "------------------------------------\n",
      "\n"
     ]
    }
   ],
   "source": [
    "# Create the `L2` schema\n",
    "\n",
    "config.run_nzsql(nz_connection,\n",
    "                 f\"\"\"CREATE SCHEMA {target_schema};\"\"\"\n",
    "                )"
   ]
  },
  {
   "cell_type": "markdown",
   "id": "c755786c-7fe1-4e1b-9e89-0c9442c0b64b",
   "metadata": {},
   "source": [
    "## L2: Task 2.4 - CREATE `CUSTOMERS` table in `L2` schema.\n"
   ]
  },
  {
   "cell_type": "code",
   "execution_count": 29,
   "id": "9b03b4d3-2975-4855-967b-bd2785abba00",
   "metadata": {},
   "outputs": [
    {
     "name": "stdout",
     "output_type": "stream",
     "text": [
      "--------Running SQL Command---------\n",
      "\n",
      "\n",
      "CREATE TABLE LAB1585_XX.L2.customers AS\n",
      "SELECT\n",
      "  customer_id,\n",
      "  customer_name,\n",
      "  email,\n",
      "  phone_number\n",
      "FROM\n",
      "  LAB1585_XX.L1.customers_ext\n",
      "WHERE\n",
      "  customer_id IS NOT NULL\n",
      "  AND customer_name IS NOT NULL\n",
      "  ;\n",
      "\n",
      "Error executing command.\n",
      "Error details: ERROR:  CREATE TABLE: object \"CUSTOMERS\" already exists.\n",
      "\u0000\n",
      "------------------------------------\n",
      "\n"
     ]
    }
   ],
   "source": [
    "# Define the SQL statement to create the 'customers' table in L2 from the 'customers_ext' table in L1\n",
    "\n",
    "create_customers_table = f'''\n",
    "CREATE TABLE {nz_target_database}.{target_schema}.{\"customers\"} AS\n",
    "SELECT\n",
    "  customer_id,\n",
    "  customer_name,\n",
    "  email,\n",
    "  phone_number\n",
    "FROM\n",
    "  {nz_target_database}.{source_schema}.{\"customers_ext\"}\n",
    "WHERE\n",
    "  customer_id IS NOT NULL\n",
    "  AND customer_name IS NOT NULL\n",
    "  ;\n",
    "''' \n",
    "\n",
    "config.run_nzsql(nz_connection, create_customers_table)"
   ]
  },
  {
   "cell_type": "markdown",
   "id": "e1e499ec-eab8-497e-b273-e9e6da981cdb",
   "metadata": {},
   "source": [
    "## <img src=\"run.svg\" alt=\"Icon\" width=\"40\" height=\"40\"> L2: Task 2.5 - CREATE `PRODUCTS` table in `L2` schema."
   ]
  },
  {
   "cell_type": "code",
   "execution_count": 30,
   "id": "22bda880-3c09-462e-bbff-36eeff980003",
   "metadata": {},
   "outputs": [
    {
     "name": "stdout",
     "output_type": "stream",
     "text": [
      "--------Running SQL Command---------\n",
      "\n",
      "\n",
      "CREATE TABLE LAB1585_XX.L2.products  AS\n",
      "SELECT\n",
      "  product_id,\n",
      "  product_name,\n",
      "  category,\n",
      "  price\n",
      "FROM\n",
      "  LAB1585_XX.L1.products_ext\n",
      "WHERE\n",
      "  product_id IS NOT NULL\n",
      "  AND product_name IS NOT NULL\n",
      "  AND category IS NOT NULL\n",
      "  AND price >= 0\n",
      "  ;\n",
      "\n",
      "Successfully executed command.\n",
      "\n",
      "------------------------------------\n",
      "\n"
     ]
    }
   ],
   "source": [
    "# Define the SQL Statements to create the L2 tables from L1\n",
    "create_products_table = f'''\n",
    "CREATE TABLE {nz_target_database}.{target_schema}.{\"products\"}  AS\n",
    "SELECT\n",
    "  product_id,\n",
    "  product_name,\n",
    "  category,\n",
    "  price\n",
    "FROM\n",
    "  {nz_target_database}.{source_schema}.{\"products_ext\"}\n",
    "WHERE\n",
    "  product_id IS NOT NULL\n",
    "  AND product_name IS NOT NULL\n",
    "  AND category IS NOT NULL\n",
    "  AND price >= 0\n",
    "  ;\n",
    "'''\n",
    "config.run_nzsql(nz_connection, create_products_table)"
   ]
  },
  {
   "cell_type": "markdown",
   "id": "4377b045-3079-4e75-b418-97973850b82f",
   "metadata": {},
   "source": [
    "## <img src=\"run.svg\" alt=\"Icon\" width=\"40\" height=\"40\"> L2: Task 2.6 - Create `ORDERS` table in `L2` schema."
   ]
  },
  {
   "cell_type": "code",
   "execution_count": 31,
   "id": "3e8a236a-3586-4d04-8d8f-d60e0254d130",
   "metadata": {},
   "outputs": [
    {
     "name": "stdout",
     "output_type": "stream",
     "text": [
      "--------Running SQL Command---------\n",
      "\n",
      "\n",
      "CREATE TABLE LAB1585_XX.L2.orders  AS\n",
      "SELECT\n",
      "  order_id,\n",
      "  order_date,\n",
      "  customer_id,\n",
      "  product_id,\n",
      "  quantity,\n",
      "  unit_price,\n",
      "  unit_price * quantity as total_price -- add a total price column\n",
      "FROM\n",
      "  LAB1585_XX.L1.orders_ext\n",
      "WHERE\n",
      "  order_id IS NOT NULL\n",
      "  OR order_date IS NOT NULL\n",
      "  OR customer_id IS NOT NULL\n",
      "  OR product_id IS NOT NULL\n",
      "  OR quantity > 0\n",
      "  OR unit_price >= 0\n",
      "  ;\n",
      "\n",
      "Successfully executed command.\n",
      "\n",
      "------------------------------------\n",
      "\n"
     ]
    }
   ],
   "source": [
    "# Define the SQL Statements to create the L2 tables from L1\n",
    "create_orders_table = f'''\n",
    "CREATE TABLE {nz_target_database}.{target_schema}.{\"orders\"}  AS\n",
    "SELECT\n",
    "  order_id,\n",
    "  order_date,\n",
    "  customer_id,\n",
    "  product_id,\n",
    "  quantity,\n",
    "  unit_price,\n",
    "  unit_price * quantity as total_price -- add a total price column\n",
    "FROM\n",
    "  {nz_target_database}.{source_schema}.{\"orders_ext\"}\n",
    "WHERE\n",
    "  order_id IS NOT NULL\n",
    "  OR order_date IS NOT NULL\n",
    "  OR customer_id IS NOT NULL\n",
    "  OR product_id IS NOT NULL\n",
    "  OR quantity > 0\n",
    "  OR unit_price >= 0\n",
    "  ;\n",
    "'''\n",
    "config.run_nzsql(nz_connection, create_orders_table)"
   ]
  },
  {
   "cell_type": "markdown",
   "id": "9ebbd08d-5a67-4686-8b54-71d736649d69",
   "metadata": {},
   "source": [
    "## <img src=\"run.svg\" alt=\"Icon\" width=\"40\" height=\"40\"> L2: Task 2.8 - LIST `L2` tables"
   ]
  },
  {
   "cell_type": "code",
   "execution_count": 32,
   "id": "7fbd1e1c-41d6-46e3-aa2a-2367b814d2e6",
   "metadata": {},
   "outputs": [
    {
     "name": "stdout",
     "output_type": "stream",
     "text": [
      "--------Running SQL Command---------\n",
      "\n",
      "\n",
      "SELECT SCHEMA, TABLENAME \n",
      "FROM _v_table\n",
      "WHERE SCHEMA = 'L2' \n",
      "  AND TABLENAME IN ('CUSTOMERS', 'ORDERS', 'PRODUCTS')\n",
      "ORDER BY TABLENAME\n",
      ";\n",
      "\n",
      "Successfully executed command.\n",
      "\n",
      "--------End of SQL Command---------\n",
      "\n",
      "+--------+-----------+\n",
      "| SCHEMA | TABLENAME |\n",
      "+--------+-----------+\n",
      "| L2     | CUSTOMERS |\n",
      "| L2     | ORDERS    |\n",
      "| L2     | PRODUCTS  |\n",
      "+--------+-----------+\n",
      "\n",
      "All specified tables exist in schema 'L2': CUSTOMERS, ORDERS, PRODUCTS\n"
     ]
    }
   ],
   "source": [
    "# Set variables for use in sub tasks\n",
    "target_schema = \"L2\"\n",
    "\n",
    "# Define the tables to check\n",
    "tables_to_check = [\"CUSTOMERS\", \"ORDERS\", \"PRODUCTS\"]\n",
    "\n",
    "# Query to check for table existence\n",
    "results = config.run_nzsql_withresults(nz_connection,\n",
    "f\"\"\"\n",
    "SELECT SCHEMA, TABLENAME \n",
    "FROM _v_table\n",
    "WHERE SCHEMA = '{target_schema}' \n",
    "  AND TABLENAME IN ({', '.join(f\"'{table}'\" for table in tables_to_check)})\n",
    "ORDER BY TABLENAME\n",
    ";\n",
    "\"\"\"\n",
    ")\n",
    "\n",
    "if results:\n",
    "    print(tabulate(results, headers=[\"SCHEMA\", \"TABLENAME\"], tablefmt=\"pretty\", showindex=False, stralign=\"left\"))\n",
    "else:\n",
    "    print(\"No rows found.\")\n",
    "\n",
    "# Collect the existing table names\n",
    "existing_tables = {row[1] for row in results}\n",
    "\n",
    "# Check if all specified tables exist\n",
    "if all(table in existing_tables for table in tables_to_check):\n",
    "    print(f\"\\nAll specified tables exist in schema '{target_schema}': {', '.join(tables_to_check)}\")\n",
    "else:\n",
    "    missing_tables = [table for table in tables_to_check if table not in existing_tables]\n",
    "    print(f\"\\nThe following tables are missing in schema '{target_schema}': {', '.join(missing_tables)}\")\n"
   ]
  },
  {
   "cell_type": "markdown",
   "id": "130e8468-0488-458b-b458-bcc3ccff7f26",
   "metadata": {},
   "source": [
    "## <img src=\"run.svg\" alt=\"Icon\" width=\"40\" height=\"40\"> L2: Task 2.7 - DISCONNECT from database `U1585_XX`\n",
    "> Where `XX` is your assigned student ID set in cell one."
   ]
  },
  {
   "cell_type": "code",
   "execution_count": 33,
   "id": "26fffefc-8237-428d-89e0-ff2600b79b2c",
   "metadata": {},
   "outputs": [
    {
     "name": "stdout",
     "output_type": "stream",
     "text": [
      "Successfully disconnected from the database LAB1585_XX.\n"
     ]
    }
   ],
   "source": [
    "# Call the run_nzsql function in config.py to disconnect from the Netezza U1585_XX database\n",
    "\n",
    "config.disconnect(nz_connection, nz_target_db)"
   ]
  },
  {
   "cell_type": "markdown",
   "id": "1f399681-a89f-4c89-93f2-1cddc138d94f",
   "metadata": {},
   "source": [
    "Check that the schema was created."
   ]
  },
  {
   "cell_type": "markdown",
   "id": "a3d5cead-b77c-4d70-a4c6-797c4f5890d0",
   "metadata": {},
   "source": [
    "---\n",
    "# L3: Overview - Presentation Data Layer\n",
    "---\n",
    "The L3 data further refines the L2 data and can be considered \"business-level\" because it is considered a trusted source of information. Data may be combined from various sources to create a single object to remove the need for joins. Gold data can reside on object stores but usually for performance reasons it will reside on high-performance storage using proprietary database engines to optimize query performance."
   ]
  },
  {
   "cell_type": "markdown",
   "id": "b6e71bd9-4e7b-41d6-8e47-151ebc79f99b",
   "metadata": {},
   "source": [
    "## <img src=\"run.svg\" alt=\"Icon\" width=\"40\" height=\"40\"> L3: Task 3.1 - Set variables"
   ]
  },
  {
   "cell_type": "code",
   "execution_count": 34,
   "id": "e2900f9d-c3cd-4800-861f-0b864966650d",
   "metadata": {},
   "outputs": [],
   "source": [
    "# Set variables for use in sub tasks\n",
    "\n",
    "nz_target_database = f\"LAB1585_{student_id}\"\n",
    "L1_schema = \"L1\"\n",
    "L2_schema = \"L2\"\n",
    "L3_schema = \"L3\""
   ]
  },
  {
   "cell_type": "markdown",
   "id": "381a5750-3760-41ff-b285-d072d45c8c54",
   "metadata": {},
   "source": [
    "## <img src=\"run.svg\" alt=\"Icon\" width=\"40\" height=\"40\"> L3: Task 3.2 - CONNECT to LAB1585_XX database"
   ]
  },
  {
   "cell_type": "code",
   "execution_count": 35,
   "id": "d04886b3-db85-409f-9d01-7ce52d1eb2a6",
   "metadata": {},
   "outputs": [
    {
     "name": "stdout",
     "output_type": "stream",
     "text": [
      "Connection to database LAB1585_XX successful.\n",
      "\n"
     ]
    }
   ],
   "source": [
    "# Connect to the newly created database\n",
    "\n",
    "nz_connection = config.connect_nzdb(nz_user, nz_password, nz_host, nz_target_db, nz_port)"
   ]
  },
  {
   "cell_type": "markdown",
   "id": "e97c549d-7b8e-411c-b804-ab36b044bee3",
   "metadata": {},
   "source": [
    "## <img src=\"run.svg\" alt=\"Icon\" width=\"40\" height=\"40\"> L3: Task 3.3 - ADD `L3` Schema\n",
    "We start by creating the `L3` schema that will be used for the refined Silver tables."
   ]
  },
  {
   "cell_type": "code",
   "execution_count": 36,
   "id": "40971e00-1af3-4841-b0f8-b2805a7e0811",
   "metadata": {},
   "outputs": [
    {
     "name": "stdout",
     "output_type": "stream",
     "text": [
      "--------Running SQL Command---------\n",
      "\n",
      "CREATE SCHEMA L3;\n",
      "Successfully executed command.\n",
      "\n",
      "------------------------------------\n",
      "\n"
     ]
    }
   ],
   "source": [
    "# Create the `L3` schema\n",
    "\n",
    "config.run_nzsql(nz_connection,\n",
    "                 f\"\"\"CREATE SCHEMA {L3_schema};\"\"\"\n",
    "                )"
   ]
  },
  {
   "cell_type": "markdown",
   "id": "95457f1b-4147-42bc-94d7-4a3b8b4b79ba",
   "metadata": {},
   "source": [
    "## L3: Task 3.4 - Summary Tables\n",
    "\n",
    "To enhance query performance, a series of summary tables are created for each base table in the L3 schema. These tables provide summarized information on:\n",
    "\n",
    "    - Customer Activity\n",
    "    - Product Orders\n",
    "    - Product Categories\n",
    "\n",
    "In addition to improving performance, this approach helps build Level-3 (L3) of the data layer architecture for data warehousing and data lakes.\n"
   ]
  },
  {
   "cell_type": "markdown",
   "id": "023299d9-414b-42b2-8f56-9e1fa394432d",
   "metadata": {},
   "source": [
    "### <img src=\"run.svg\" alt=\"Icon\" width=\"40\" height=\"40\"> Task 3.4.1 Create Customer Activity Summary"
   ]
  },
  {
   "cell_type": "code",
   "execution_count": 37,
   "id": "286bc150-1065-4c25-a791-539c224f92d3",
   "metadata": {},
   "outputs": [
    {
     "name": "stdout",
     "output_type": "stream",
     "text": [
      "--------Running SQL Command---------\n",
      "\n",
      "\n",
      "    CREATE TABLE LAB1585_XX.L3.customer_activity_summary  AS\n",
      "    SELECT\n",
      "        o.customer_id,\n",
      "        COUNT(DISTINCT o.order_id) AS total_orders_placed,\n",
      "        SUM(o.total_price) AS total_revenue\n",
      "    FROM\n",
      "        LAB1585_XX.L2.orders o\n",
      "    JOIN\n",
      "         LAB1585_XX.L2.customers c ON o.customer_id = c.customer_id\n",
      "    GROUP BY\n",
      "        o.customer_id;\n",
      "\n",
      "Successfully executed command.\n",
      "\n",
      "------------------------------------\n",
      "\n"
     ]
    }
   ],
   "source": [
    "config.run_nzsql(nz_connection, \n",
    "f\"\"\"\n",
    "    CREATE TABLE {nz_target_database}.{L3_schema}.customer_activity_summary  AS\n",
    "    SELECT\n",
    "        o.customer_id,\n",
    "        COUNT(DISTINCT o.order_id) AS total_orders_placed,\n",
    "        SUM(o.total_price) AS total_revenue\n",
    "    FROM\n",
    "        {nz_target_database}.{L2_schema}.orders o\n",
    "    JOIN\n",
    "         {nz_target_database}.{L2_schema}.customers c ON o.customer_id = c.customer_id\n",
    "    GROUP BY\n",
    "        o.customer_id;\n",
    "\"\"\")"
   ]
  },
  {
   "cell_type": "markdown",
   "id": "c4a7dfad-2af9-4191-bb03-87ba61fe91c5",
   "metadata": {},
   "source": [
    "### <img src=\"run.svg\" alt=\"Icon\" width=\"40\" height=\"40\"> Task 3.4.2 Create Order Summary"
   ]
  },
  {
   "cell_type": "code",
   "execution_count": 38,
   "id": "bd2fc121-72f5-48a8-b8ae-4e908911eab5",
   "metadata": {},
   "outputs": [
    {
     "name": "stdout",
     "output_type": "stream",
     "text": [
      "--------Running SQL Command---------\n",
      "\n",
      "\n",
      "    CREATE TABLE LAB1585_XX.L3.order_summary AS\n",
      "    SELECT\n",
      "        product_id,\n",
      "        SUM(quantity) AS total_quantity,\n",
      "        SUM(total_price) AS total_revenue\n",
      "    FROM\n",
      "        LAB1585_XX.L2.orders\n",
      "    GROUP BY\n",
      "        product_id;\n",
      "\n",
      "Successfully executed command.\n",
      "\n",
      "------------------------------------\n",
      "\n"
     ]
    }
   ],
   "source": [
    "config.run_nzsql(nz_connection, \n",
    "f\"\"\"\n",
    "    CREATE TABLE {nz_target_database}.{L3_schema}.order_summary AS\n",
    "    SELECT\n",
    "        product_id,\n",
    "        SUM(quantity) AS total_quantity,\n",
    "        SUM(total_price) AS total_revenue\n",
    "    FROM\n",
    "        {nz_target_database}.{L2_schema}.orders\n",
    "    GROUP BY\n",
    "        product_id;\n",
    "\"\"\")"
   ]
  },
  {
   "cell_type": "markdown",
   "id": "686e6f7a-5196-4f5d-8e8f-8c611c9520e0",
   "metadata": {},
   "source": [
    "### <img src=\"run.svg\" alt=\"Icon\" width=\"40\" height=\"40\"> Task 3.4.3 Create Product Summary"
   ]
  },
  {
   "cell_type": "code",
   "execution_count": 39,
   "id": "2ac76e23-4fde-4c75-a8b9-cada15dc5bf1",
   "metadata": {},
   "outputs": [
    {
     "name": "stdout",
     "output_type": "stream",
     "text": [
      "--------Running SQL Command---------\n",
      "\n",
      "\n",
      "    CREATE TABLE LAB1585_XX.L3.product_category_summary AS\n",
      "    SELECT\n",
      "        category,\n",
      "        COUNT(*) AS product_count\n",
      "    FROM\n",
      "        LAB1585_XX.L2.products\n",
      "    GROUP BY\n",
      "        category;\n",
      "\n",
      "Successfully executed command.\n",
      "\n",
      "------------------------------------\n",
      "\n"
     ]
    }
   ],
   "source": [
    "config.run_nzsql(nz_connection, \n",
    "f\"\"\"\n",
    "    CREATE TABLE {nz_target_database}.{L3_schema}.product_category_summary AS\n",
    "    SELECT\n",
    "        category,\n",
    "        COUNT(*) AS product_count\n",
    "    FROM\n",
    "        {nz_target_database}.{L2_schema}.products\n",
    "    GROUP BY\n",
    "        category;\n",
    "\"\"\")"
   ]
  },
  {
   "cell_type": "markdown",
   "id": "25dc95f5-5e9e-41da-b3dd-dad9cc82d268",
   "metadata": {},
   "source": [
    "## <img src=\"run.svg\" alt=\"Icon\" width=\"40\" height=\"40\"> L3: Task 3.5 - List `L3` Tables"
   ]
  },
  {
   "cell_type": "code",
   "execution_count": 40,
   "id": "04d0d6db-daf5-4cd7-9825-22b31818f258",
   "metadata": {},
   "outputs": [
    {
     "name": "stdout",
     "output_type": "stream",
     "text": [
      "--------Running SQL Command---------\n",
      "\n",
      "\n",
      "SELECT SCHEMA, TABLENAME \n",
      "FROM _v_table\n",
      "WHERE SCHEMA = 'L3' \n",
      "  AND TABLENAME IN ('CUSTOMER_ACTIVITY_SUMMARY', 'ORDER_SUMMARY', 'PRODUCT_CATEGORY_SUMMARY')\n",
      "ORDER BY TABLENAME\n",
      ";\n",
      "\n",
      "Successfully executed command.\n",
      "\n",
      "--------End of SQL Command---------\n",
      "\n",
      "+--------+---------------------------+\n",
      "| SCHEMA | TABLENAME                 |\n",
      "+--------+---------------------------+\n",
      "| L3     | CUSTOMER_ACTIVITY_SUMMARY |\n",
      "| L3     | ORDER_SUMMARY             |\n",
      "| L3     | PRODUCT_CATEGORY_SUMMARY  |\n",
      "+--------+---------------------------+\n",
      "\n",
      "All specified tables exist in schema 'L3': CUSTOMER_ACTIVITY_SUMMARY, ORDER_SUMMARY, PRODUCT_CATEGORY_SUMMARY\n"
     ]
    }
   ],
   "source": [
    "# Set variables for use in sub tasks\n",
    "target_schema = \"L3\"\n",
    "\n",
    "# Define the tables to check\n",
    "tables_to_check = [\"CUSTOMER_ACTIVITY_SUMMARY\", \"ORDER_SUMMARY\", \"PRODUCT_CATEGORY_SUMMARY\"]\n",
    "\n",
    "# Query to check for table existence\n",
    "results = config.run_nzsql_withresults(nz_connection,\n",
    "f\"\"\"\n",
    "SELECT SCHEMA, TABLENAME \n",
    "FROM _v_table\n",
    "WHERE SCHEMA = '{target_schema}' \n",
    "  AND TABLENAME IN ({', '.join(f\"'{table}'\" for table in tables_to_check)})\n",
    "ORDER BY TABLENAME\n",
    ";\n",
    "\"\"\"\n",
    ")\n",
    "\n",
    "if results:\n",
    "    print(tabulate(results, headers=[\"SCHEMA\", \"TABLENAME\"], tablefmt=\"pretty\", showindex=False, stralign=\"left\"))\n",
    "else:\n",
    "    print(\"No rows found.\")\n",
    "\n",
    "# Collect the existing table names\n",
    "existing_tables = {row[1] for row in results}\n",
    "\n",
    "# Check if all specified tables exist\n",
    "if all(table in existing_tables for table in tables_to_check):\n",
    "    print(f\"\\nAll specified tables exist in schema '{target_schema}': {', '.join(tables_to_check)}\")\n",
    "else:\n",
    "    missing_tables = [table for table in tables_to_check if table not in existing_tables]\n",
    "    print(f\"\\nThe following tables are missing in schema '{target_schema}': {', '.join(missing_tables)}\")\n"
   ]
  },
  {
   "cell_type": "markdown",
   "id": "e07f7779-8228-4d8b-a9a3-18c22a83f825",
   "metadata": {},
   "source": [
    "## L3: Task 3.6 - Sample Reports\n",
    "\n",
    "The following examples show the use of `L2` and `L3` data being joined in queries."
   ]
  },
  {
   "cell_type": "markdown",
   "id": "e161964e-35a7-4958-a7ba-d5be881ec06b",
   "metadata": {},
   "source": [
    "### <img src=\"run.svg\" alt=\"Icon\" width=\"40\" height=\"40\"> Task 3.6.1 Report on Customer Activity: `L2`"
   ]
  },
  {
   "cell_type": "code",
   "execution_count": 41,
   "id": "91edcb2b-941c-4636-b1bc-cd71e2e1c351",
   "metadata": {},
   "outputs": [
    {
     "data": {
      "text/html": [
       "<style>.output_scroll { height: auto; }</style>"
      ],
      "text/plain": [
       "<IPython.core.display.HTML object>"
      ]
     },
     "metadata": {},
     "output_type": "display_data"
    },
    {
     "name": "stdout",
     "output_type": "stream",
     "text": [
      "--------Running SQL Command---------\n",
      "\n",
      "\n",
      "    SELECT\n",
      "        c.customer_id,\n",
      "        c.customer_name,\n",
      "        COUNT(DISTINCT o.order_id) AS total_orders_placed,\n",
      "        SUM(o.total_price) AS total_revenue\n",
      "    FROM\n",
      "         LAB1585_XX.L2.customers c\n",
      "    LEFT JOIN\n",
      "         LAB1585_XX.L2.orders o ON c.customer_id = o.customer_id\n",
      "    GROUP BY\n",
      "        c.customer_id, c.customer_name\n",
      "    ORDER BY\n",
      "        total_revenue DESC;\n",
      "    \n",
      "Successfully executed command.\n",
      "\n",
      "--------End of SQL Command---------\n",
      "\n",
      "+-------------+-----------------------+---------------------+--------------------+\n",
      "| Customer ID | Customer Name         | Total Orders Placed | Total Revenue      |\n",
      "+-------------+-----------------------+---------------------+--------------------+\n",
      "| 75.0        | Katherine Thompson    | 8                   | 3648.02            |\n",
      "| 39.0        | Charles Fox           | 10                  | 3503.16            |\n",
      "| 26.0        | Matthew Mccall        | 8                   | 3425.3199999999997 |\n",
      "| 80.0        | Marcus Hall           | 10                  | 3194.3599999999997 |\n",
      "| 38.0        | Jordan Jacobson       | 7                   | 3074.27            |\n",
      "| 42.0        | Elizabeth Reynolds    | 9                   | 3021.02            |\n",
      "| 55.0        | Jonathan Chase        | 9                   | 2929.7400000000002 |\n",
      "| 9.0         | Timothy Ward          | 7                   | 2853.52            |\n",
      "| 95.0        | Mark Perkins          | 8                   | 2777.9100000000003 |\n",
      "| 92.0        | Patrick Bailey        | 7                   | 2749.51            |\n",
      "| 82.0        | Michael Smith         | 11                  | 2706.65            |\n",
      "| 60.0        | Michael Figueroa      | 6                   | 2516.14            |\n",
      "| 74.0        | Christina Moore       | 4                   | 2509.64            |\n",
      "| 69.0        | Cory Reyes            | 9                   | 2431.59            |\n",
      "| 21.0        | Edward Clayton        | 5                   | 2429.17            |\n",
      "| 23.0        | Richard Maldonado     | 7                   | 2419.71            |\n",
      "| 76.0        | Joshua Baker          | 6                   | 2408.57            |\n",
      "| 68.0        | Michael Watts         | 9                   | 2398.14            |\n",
      "| 78.0        | Alexis Cohen          | 5                   | 2384.7899999999995 |\n",
      "| 96.0        | Justin Hawkins        | 5                   | 2283.88            |\n",
      "| 73.0        | Autumn Randolph       | 4                   | 2277.78            |\n",
      "| 19.0        | Sarah Schneider       | 9                   | 2258.9600000000005 |\n",
      "| 54.0        | Samantha Andrews      | 7                   | 2220.54            |\n",
      "| 45.0        | Adam Ford             | 5                   | 2177.84            |\n",
      "| 10.0        | James Santiago        | 4                   | 2154.73            |\n",
      "| 71.0        | Keith Gill MD         | 5                   | 2072.35            |\n",
      "| 83.0        | Mandy King            | 4                   | 2042.1999999999998 |\n",
      "| 66.0        | Douglas Collins       | 9                   | 2021.5             |\n",
      "| 59.0        | Rodney Rodriguez      | 8                   | 1927.8             |\n",
      "| 34.0        | Ariana Rush           | 6                   | 1871.8700000000001 |\n",
      "| 47.0        | Lisa Moore            | 5                   | 1836.6399999999999 |\n",
      "| 84.0        | Scott Strickland      | 8                   | 1831.9899999999998 |\n",
      "| 58.0        | Robert Rose           | 4                   | 1825.1299999999999 |\n",
      "| 12.0        | Ashley Chen           | 5                   | 1756.43            |\n",
      "| 97.0        | Jordan Wright         | 7                   | 1721.5899999999997 |\n",
      "| 37.0        | Elizabeth Barnes      | 5                   | 1708.7000000000003 |\n",
      "| 85.0        | Heather Garcia        | 7                   | 1706.99            |\n",
      "| 30.0        | Luis Boyd             | 6                   | 1686.7200000000003 |\n",
      "| 11.0        | Gary Huffman          | 4                   | 1651.74            |\n",
      "| 29.0        | Sarah Perry           | 3                   | 1637.6             |\n",
      "| 62.0        | Charles Marshall      | 5                   | 1630.8100000000002 |\n",
      "| 94.0        | Marilyn Brewer        | 4                   | 1562.68            |\n",
      "| 79.0        | Michelle Bright       | 6                   | 1560.57            |\n",
      "| 98.0        | Gregory Jackson       | 6                   | 1530.8             |\n",
      "| 7.0         | Jeffery Hoffman       | 5                   | 1526.67            |\n",
      "| 57.0        | James Wallace         | 6                   | 1522.03            |\n",
      "| 46.0        | Michelle Ross         | 5                   | 1494.53            |\n",
      "| 33.0        | Jeffrey Shaw          | 6                   | 1486.7             |\n",
      "| 14.0        | Misty Jennings        | 4                   | 1481.31            |\n",
      "| 43.0        | Aaron Martin          | 5                   | 1413.6599999999999 |\n",
      "| 13.0        | Adrian Watkins        | 5                   | 1338.62            |\n",
      "| 52.0        | Patricia Gonzalez DDS | 6                   | 1329.49            |\n",
      "| 67.0        | Carolyn Long          | 7                   | 1324.98            |\n",
      "| 93.0        | Brittany Mckinney     | 5                   | 1323.34            |\n",
      "| 20.0        | Melinda Underwood     | 5                   | 1313.7700000000002 |\n",
      "| 50.0        | Joseph Lyons          | 3                   | 1296.46            |\n",
      "| 24.0        | Brian Michael         | 5                   | 1280.51            |\n",
      "| 44.0        | Kimberly Rodriguez    | 4                   | 1240.47            |\n",
      "| 65.0        | Cody Hood             | 4                   | 1216.4199999999998 |\n",
      "| 15.0        | Robert Garcia         | 4                   | 1184.51            |\n",
      "| 91.0        | Mary Bowman           | 4                   | 1173.67            |\n",
      "| 17.0        | Sydney Olsen          | 4                   | 1117.1200000000001 |\n",
      "| 49.0        | Allen Dunlap          | 5                   | 1115.43            |\n",
      "| 40.0        | Alexander Oliver      | 3                   | 1069.3200000000002 |\n",
      "| 88.0        | Nathaniel Merritt     | 5                   | 1067.35            |\n",
      "| 89.0        | Jesse Rich            | 5                   | 1061.4             |\n",
      "| 86.0        | Sean Horton           | 4                   | 1023.3600000000001 |\n",
      "| 8.0         | Elizabeth Castaneda   | 3                   | 994.86             |\n",
      "| 72.0        | Derek Williams        | 5                   | 983.5999999999999  |\n",
      "| 2.0         | Cathy White           | 3                   | 967.47             |\n",
      "| 81.0        | Jacob Porter          | 5                   | 964.8200000000002  |\n",
      "| 48.0        | Theresa Johnson       | 6                   | 952.3900000000001  |\n",
      "| 56.0        | Michael King          | 5                   | 933.5              |\n",
      "| 51.0        | Steven Salazar        | 2                   | 916.2              |\n",
      "| 27.0        | Sarah Lopez           | 4                   | 860.4699999999999  |\n",
      "| 90.0        | Adam Brown            | 6                   | 833.6              |\n",
      "| 28.0        | David Rasmussen DDS   | 2                   | 784.02             |\n",
      "| 53.0        | Natalie Clayton       | 3                   | 774.5              |\n",
      "| 63.0        | Krystal Martinez      | 4                   | 770.46             |\n",
      "| 36.0        | Thomas Knox           | 5                   | 739.51             |\n",
      "| 1.0         | Kimberly Lawrence     | 3                   | 736.88             |\n",
      "| 22.0        | Steven Singh          | 4                   | 721.8499999999999  |\n",
      "| 18.0        | Courtney Cooley       | 5                   | 708.2500000000001  |\n",
      "| 77.0        | Thomas Lindsey        | 3                   | 685.5              |\n",
      "| 3.0         | Jeremy Cameron        | 4                   | 670.12             |\n",
      "| 70.0        | James Fitzpatrick     | 5                   | 649.95             |\n",
      "| 25.0        | Kelly Dean            | 1                   | 641.3              |\n",
      "| 87.0        | Sarah Dominguez       | 4                   | 606.71             |\n",
      "| 5.0         | Brad Walters          | 5                   | 606.65             |\n",
      "| 99.0        | Jorge Smith           | 1                   | 599.76             |\n",
      "| 6.0         | Dr. Christine Sanders | 2                   | 501.38             |\n",
      "| 32.0        | Thomas Gilbert        | 3                   | 441.84000000000003 |\n",
      "| 100.0       | Shelby Fernandez      | 2                   | 439.17999999999995 |\n",
      "| 31.0        | Eric Wright           | 3                   | 307.44000000000005 |\n",
      "| 41.0        | Rebecca Chan          | 2                   | 290.7              |\n",
      "| 64.0        | George Gordon         | 1                   | 278.04             |\n",
      "| 16.0        | Zachary Watson        | 2                   | 276.46             |\n",
      "| 61.0        | Austin Martin         | 1                   | 228.96             |\n",
      "| 35.0        | Joel Barrett          | 1                   | 80.33              |\n",
      "| 4.0         | Howard Dixon          | 0                   |                    |\n",
      "+-------------+-----------------------+---------------------+--------------------+\n"
     ]
    }
   ],
   "source": [
    "from IPython.display import display, HTML\n",
    "\n",
    "# Disable scrolling for notebook outputs\n",
    "display(HTML(\"<style>.output_scroll { height: auto; }</style>\"))\n",
    "\n",
    "# Execute the SQL query and retrieve results\n",
    "results = config.run_nzsql_withresults(nz_connection, \n",
    "    f\"\"\"\n",
    "    SELECT\n",
    "        c.customer_id,\n",
    "        c.customer_name,\n",
    "        COUNT(DISTINCT o.order_id) AS total_orders_placed,\n",
    "        SUM(o.total_price) AS total_revenue\n",
    "    FROM\n",
    "         {nz_target_database}.{L2_schema}.customers c\n",
    "    LEFT JOIN\n",
    "         {nz_target_database}.{L2_schema}.orders o ON c.customer_id = o.customer_id\n",
    "    GROUP BY\n",
    "        c.customer_id, c.customer_name\n",
    "    ORDER BY\n",
    "        total_revenue DESC;\n",
    "    \"\"\"\n",
    ")\n",
    "\n",
    "# Check if results are not empty and print using tabulate\n",
    "if results:\n",
    "    print(tabulate(results, headers=[\"Customer ID\", \"Customer Name\", \"Total Orders Placed\", \"Total Revenue\"],\n",
    "                   tablefmt=\"pretty\", showindex=False, \n",
    "                   stralign=\"left\", numalign=\"right\"))\n",
    "else:\n",
    "    print(\"No data found.\")"
   ]
  },
  {
   "cell_type": "markdown",
   "id": "c49e1450-bfc5-4234-8393-75f207a6fc34",
   "metadata": {},
   "source": [
    "### <img src=\"run.svg\" alt=\"Icon\" width=\"40\" height=\"40\"> Task 3.6.2 Report Total Revenue by Product Category: `L2`"
   ]
  },
  {
   "cell_type": "code",
   "execution_count": 42,
   "id": "b5c677f7-7f3d-4f29-93c4-5f7d860f934b",
   "metadata": {},
   "outputs": [
    {
     "name": "stdout",
     "output_type": "stream",
     "text": [
      "--------Running SQL Command---------\n",
      "\n",
      "\n",
      "    SELECT\n",
      "        p.category,\n",
      "        SUM(o.total_price) AS total_revenue\n",
      "    FROM\n",
      "        LAB1585_XX.L2.orders o\n",
      "    JOIN\n",
      "        LAB1585_XX.L2.products p ON o.product_id = p.product_id\n",
      "    GROUP BY\n",
      "        p.category\n",
      "    ORDER BY\n",
      "        total_revenue DESC;\n",
      "    \n",
      "Successfully executed command.\n",
      "\n",
      "--------End of SQL Command---------\n",
      "\n",
      "+--------------+--------------------+\n",
      "| Category     | Total Revenue      |\n",
      "+--------------+--------------------+\n",
      "| Movie        | 10649.399999999998 |\n",
      "| Movement     | 10239.91           |\n",
      "| Husband      | 9306.150000000001  |\n",
      "| Trade        | 9212.34            |\n",
      "| Rule         | 8379.809999999998  |\n",
      "| Important    | 8312.08            |\n",
      "| Job          | 7718.900000000001  |\n",
      "| Point        | 7666.4800000000005 |\n",
      "| Show         | 7544.719999999999  |\n",
      "| Company      | 7522.929999999999  |\n",
      "| Owner        | 7510.41            |\n",
      "| Professional | 7143.699999999999  |\n",
      "| Computer     | 6916.450000000001  |\n",
      "| Information  | 6843.879999999999  |\n",
      "| Send         | 6547.43            |\n",
      "| Those        | 6527.33            |\n",
      "| Arrive       | 6470.4             |\n",
      "| Example      | 6418.99            |\n",
      "| Accept       | 5869.250000000001  |\n",
      "| Teach        | 3886.3299999999995 |\n",
      "+--------------+--------------------+\n"
     ]
    }
   ],
   "source": [
    "# Execute the SQL query and retrieve results\n",
    "results = config.run_nzsql_withresults(nz_connection, \n",
    "    f\"\"\"\n",
    "    SELECT\n",
    "        p.category,\n",
    "        SUM(o.total_price) AS total_revenue\n",
    "    FROM\n",
    "        {nz_target_database}.{L2_schema}.orders o\n",
    "    JOIN\n",
    "        {nz_target_database}.{L2_schema}.products p ON o.product_id = p.product_id\n",
    "    GROUP BY\n",
    "        p.category\n",
    "    ORDER BY\n",
    "        total_revenue DESC;\n",
    "    \"\"\"\n",
    ")\n",
    "\n",
    "# Check if results are not empty and print using tabulate\n",
    "if results:\n",
    "    print(tabulate(results, headers=[\"Category\", \"Total Revenue\"],\n",
    "                   tablefmt=\"pretty\", showindex=False, \n",
    "                   stralign=\"left\", numalign=\"right\"))\n",
    "else:\n",
    "    print(\"No data found.\")"
   ]
  },
  {
   "cell_type": "markdown",
   "id": "f394f158-0c12-4b34-81bd-c6637c0e7e7d",
   "metadata": {},
   "source": [
    "### <img src=\"run.svg\" alt=\"Icon\" width=\"40\" height=\"40\"> Task 3.6.3 Report on Product Sales Summary: `L2` and `L3`"
   ]
  },
  {
   "cell_type": "code",
   "execution_count": 43,
   "id": "a9fa140e-5ba3-4f7c-b6af-2e972a89fc20",
   "metadata": {},
   "outputs": [
    {
     "name": "stdout",
     "output_type": "stream",
     "text": [
      "--------Running SQL Command---------\n",
      "\n",
      "\n",
      "    SELECT\n",
      "        p2.product_id,\n",
      "        p2.product_name,\n",
      "        p3.total_quantity,\n",
      "        p3.total_revenue\n",
      "    FROM\n",
      "        LAB1585_XX.L2.products p2\n",
      "    JOIN\n",
      "        LAB1585_XX.L3.order_summary p3 ON p2.product_id = p3.product_id\n",
      "    ORDER BY\n",
      "        p3.total_revenue DESC;\n",
      "    \n",
      "Successfully executed command.\n",
      "\n",
      "--------End of SQL Command---------\n",
      "\n",
      "+------+--------------+----------+--------------------+\n",
      "|      |              | Category | Total Revenue      |\n",
      "+------+--------------+----------+--------------------+\n",
      "| 10.0 | Contain      | 197      | 10649.4            |\n",
      "| 11.0 | Apply        | 164      | 10239.910000000002 |\n",
      "| 17.0 | Culture      | 169      | 9306.15            |\n",
      "| 16.0 | Organization | 152      | 9212.339999999998  |\n",
      "| 1.0  | Investment   | 137      | 8379.81            |\n",
      "| 5.0  | Wrong        | 132      | 8312.08            |\n",
      "| 13.0 | Case         | 147      | 7718.900000000002  |\n",
      "| 14.0 | Less         | 136      | 7666.4800000000005 |\n",
      "| 20.0 | Feeling      | 152      | 7544.72            |\n",
      "| 8.0  | Finally      | 153      | 7522.929999999999  |\n",
      "| 4.0  | Today        | 151      | 7510.409999999999  |\n",
      "| 3.0  | Moment       | 120      | 7143.700000000001  |\n",
      "| 12.0 | Still        | 141      | 6916.450000000001  |\n",
      "| 18.0 | Whether      | 141      | 6843.880000000001  |\n",
      "| 2.0  | Fish         | 146      | 6547.43            |\n",
      "| 9.0  | Mrs          | 108      | 6527.330000000002  |\n",
      "| 7.0  | Available    | 99       | 6470.400000000001  |\n",
      "| 19.0 | Best         | 127      | 6418.990000000001  |\n",
      "| 15.0 | Gun          | 123      | 5869.250000000001  |\n",
      "| 6.0  | Need         | 77       | 3886.33            |\n",
      "+------+--------------+----------+--------------------+\n"
     ]
    }
   ],
   "source": [
    "# Execute the SQL query and retrieve results\n",
    "results = config.run_nzsql_withresults(nz_connection, \n",
    "    f\"\"\"\n",
    "    SELECT\n",
    "        p2.product_id,\n",
    "        p2.product_name,\n",
    "        p3.total_quantity,\n",
    "        p3.total_revenue\n",
    "    FROM\n",
    "        {nz_target_database}.{L2_schema}.products p2\n",
    "    JOIN\n",
    "        {nz_target_database}.{L3_schema}.order_summary p3 ON p2.product_id = p3.product_id\n",
    "    ORDER BY\n",
    "        p3.total_revenue DESC;\n",
    "    \"\"\"\n",
    ")\n",
    "\n",
    "# Check if results are not empty and print using tabulate\n",
    "if results:\n",
    "    print(tabulate(results, headers=[\"Category\", \"Total Revenue\"],\n",
    "                   tablefmt=\"pretty\", showindex=False, \n",
    "                   stralign=\"left\", numalign=\"right\"))\n",
    "else:\n",
    "    print(\"No data found.\")"
   ]
  },
  {
   "cell_type": "markdown",
   "id": "7c68af74-b4e3-41f9-8aea-f047980ea5e3",
   "metadata": {},
   "source": [
    "## <img src=\"run.svg\" alt=\"Icon\" width=\"40\" height=\"40\"> L3: Task 3.7 - Disconnect from database"
   ]
  },
  {
   "cell_type": "code",
   "execution_count": 44,
   "id": "e43d2a5f-8d52-471c-b5a7-acedd6c22e8d",
   "metadata": {},
   "outputs": [
    {
     "name": "stdout",
     "output_type": "stream",
     "text": [
      "Successfully disconnected from the database LAB1585_XX.\n"
     ]
    }
   ],
   "source": [
    "# Call the run_nzsql function in config.py to disconnect from the Netezza U1585_XX database\n",
    "\n",
    "config.disconnect(nz_connection, nz_target_db)"
   ]
  },
  {
   "cell_type": "markdown",
   "id": "659cb3f6-685a-48d3-83cb-058dda271b64",
   "metadata": {},
   "source": [
    "---\n",
    "# Part 2\n",
    "\n",
    "Offload data from the Data Warehouse into Lakehouse for workload optimization.\n",
    "\n",
    "**Engine(s)**: Netezza Performance Server and Presto\n"
   ]
  },
  {
   "cell_type": "markdown",
   "id": "894d1caf-5959-4cfe-9455-f2058f9bac4f",
   "metadata": {},
   "source": [
    "---\n",
    "#### Credits: IBM 2024\n",
    "**Brajesh Pandey** [bkpandey@us.ibm.com] \n",
    "STSM, Chief Architect - Netezza EDW, Data Integration Architect - watsonx.data\n",
    "\n",
    "**Daniel Hancock** [daniel.hancock@us.ibm.com]\n",
    "Principal WW Data & AI Technical Specialist"
   ]
  }
 ],
 "metadata": {
  "kernelspec": {
   "display_name": "Python 3 (ipykernel)",
   "language": "python",
   "name": "python3"
  },
  "language_info": {
   "codemirror_mode": {
    "name": "ipython",
    "version": 3
   },
   "file_extension": ".py",
   "mimetype": "text/x-python",
   "name": "python",
   "nbconvert_exporter": "python",
   "pygments_lexer": "ipython3",
   "version": "3.11.9"
  }
 },
 "nbformat": 4,
 "nbformat_minor": 5
}
